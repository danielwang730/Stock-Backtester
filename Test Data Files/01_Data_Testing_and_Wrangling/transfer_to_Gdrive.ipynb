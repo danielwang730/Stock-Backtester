{
 "cells": [
  {
   "cell_type": "code",
   "execution_count": 19,
   "metadata": {},
   "outputs": [
    {
     "name": "stdout",
     "output_type": "stream",
     "text": [
      "['AA', 'AAL', 'AAOI', 'AAPL', 'ABBV', 'ABNB', 'ABT', 'ADBE', 'ADMA', 'AEO', 'AFRM', 'AI', 'AIG', 'ALAB', 'ALLY', 'AMAT', 'AMD', 'AMGN', 'AMZN', 'ANET', 'APA', 'APH', 'APLS', 'APO', 'APP', 'APTV', 'AR', 'ARM', 'ASAN', 'ASTS', 'AU', 'AVGO', 'AVTR', 'AZN', 'BA', 'BABA', 'BAC', 'BAX', 'BBWI', 'BBY', 'BCE', 'BE', 'BEKE', 'BEN', 'BIDU', 'BILI', 'BK', 'BKR', 'BMY', 'BP', 'BRK-B', 'BSX', 'BTDR', 'BX', 'C', 'CAG', 'CARR', 'CART', 'CCJ', 'CCL', 'CEG', 'CELH', 'CFG', 'CFLT', 'CHWY', 'CL', 'CLSK', 'CMCSA', 'CMG', 'CNC', 'CNP', 'CNQ', 'COIN', 'COP', 'CORZ', 'CPNG', 'CPRI', 'CPRT', 'CRBG', 'CRDO', 'CRH', 'CRM', 'CRNC', 'CRWD', 'CSCO', 'CSX', 'CTRA', 'CTSH', 'CTVA', 'CVNA', 'CVS', 'CVX', 'CZR', 'D', 'DAL', 'DDOG', 'DELL', 'DG', 'DHR', 'DIS', 'DJT', 'DKNG', 'DLTR', 'DOCU', 'DOW', 'DRUG', 'DUK', 'DVN', 'DXCM', 'EBAY', 'EL', 'ENB', 'ENPH', 'ENVX', 'EPD', 'EQNR', 'EQT', 'ETR', 'ETSY', 'EW', 'EXC', 'FCX', 'FHN', 'FIS', 'FITB', 'FL', 'FLEX', 'FOXA', 'FRSH', 'FTI', 'FTNT', 'FUTU', 'GAP', 'GE', 'GEHC', 'GEN', 'GEO', 'GILD', 'GIS', 'GLW', 'GM', 'GME', 'GOOG', 'GOOGL', 'GSK', 'HAL', 'HD', 'HIMS', 'HON', 'HOOD', 'HPE', 'HPQ', 'HUT', 'IBM', 'ICE', 'INTC', 'INVH', 'IONQ', 'IP', 'IPG', 'IREN', 'JCI', 'JD', 'JNJ', 'JPM', 'KC', 'KDP', 'KHC', 'KKR', 'KMI', 'KO', 'KR', 'KSS', 'LI', 'LLY', 'LRCX', 'LUNR', 'LUV', 'LVS', 'LYFT', 'M', 'MARA', 'MBLY', 'MCD', 'MCHP', 'MDLZ', 'MDT', 'MET', 'META', 'MGM', 'MMM', 'MNST', 'MO', 'MOS', 'MRK', 'MRNA', 'MRVL', 'MS', 'MSFT', 'MSTR', 'MTCH', 'MU', 'NBIS', 'NCLH', 'NEE', 'NEM', 'NFE', 'NFLX', 'NI', 'NKE', 'NNE', 'NUKK', 'NVDA', 'NVO', 'O', 'OGN', 'OKLO', 'OKTA', 'ON', 'ONON', 'ORCL', 'OSCR', 'OWL', 'OXY', 'PAAS', 'PANW', 'PATH', 'PCG', 'PDD', 'PEP', 'PFE', 'PG', 'PINS', 'PLD', 'PLTR', 'PM', 'PYPL', 'QCOM', 'QMCO', 'RBLX', 'RCAT', 'RDDT', 'RF', 'RIOT', 'RIVN', 'RKLB', 'ROKU', 'RTX', 'RUM', 'RUN', 'S', 'SBUX', 'SCHW', 'SE', 'SEDG', 'SERV', 'SHEL', 'SHOP', 'SIRI', 'SLB', 'SMCI', 'SMR', 'SNAP', 'SNOW', 'SO', 'SOFI', 'SOUN', 'SQ', 'SRE', 'STM', 'SU', 'SW', 'SYF', 'TCOM', 'TEVA', 'TFC', 'TGT', 'TJX', 'TMUS', 'TOST', 'TPR', 'TSCO', 'TSLA', 'TSM', 'TTD', 'TXN', 'U', 'UAL', 'UBER', 'UMAC', 'UNH', 'UPS', 'UPST', 'USB', 'V', 'VFC', 'VICI', 'VKTX', 'VRT', 'VST', 'VZ', 'W', 'WBA', 'WDAY', 'WDC', 'WFC', 'WMB', 'WMT', 'WY', 'X', 'XEL', 'XOM', 'XPEV', 'XRAY', 'ZETA', 'ZIM', 'ZM']\n"
     ]
    }
   ],
   "source": [
    "import pandas as pd\n",
    "import os\n",
    "import shutil\n",
    "\n",
    "ticker_file = 'C:/Users/dansk/OneDrive/Documents/GitHub/backtester/stock_backtester/12Jan2025_50Mcap_3Mvol_ATR50c_$10tickers.csv'\n",
    "parquet_folder_path = \"C:/Users/dansk/OneDrive/Documents/source stocks1min-parquet/\"\n",
    "destination_folder_path = \"G:/My Drive/Backtesting/FirstRateData/Stocks/new stocks1min-parquet\"\n",
    "\n",
    "ticker_df = pd.read_csv(ticker_file)\n",
    "ticker_list = ticker_df['Ticker'].tolist()\n",
    "print(ticker_list)\n",
    "#len(ticker_list)"
   ]
  },
  {
   "cell_type": "code",
   "execution_count": 11,
   "metadata": {},
   "outputs": [],
   "source": [
    "ticker = 'AAPL'"
   ]
  },
  {
   "cell_type": "code",
   "execution_count": 20,
   "metadata": {},
   "outputs": [
    {
     "data": {
      "text/plain": [
       "'AAPL_1min_parquet'"
      ]
     },
     "execution_count": 20,
     "metadata": {},
     "output_type": "execute_result"
    }
   ],
   "source": [
    "parquet_folder_list =  os.listdir(parquet_folder_path)\n",
    "parquet_folder_list[12]\n",
    "\n",
    "    "
   ]
  },
  {
   "cell_type": "code",
   "execution_count": 21,
   "metadata": {},
   "outputs": [
    {
     "name": "stdout",
     "output_type": "stream",
     "text": [
      "Index of AA_1min_parquet in parquet_folder_list: 18\n",
      "foldername: C:/Users/dansk/OneDrive/Documents/source stocks1min-parquet/AA_1min_parquet\n"
     ]
    }
   ],
   "source": [
    "for ticker in ticker_list:\n",
    "    \n",
    "    # Find the index of the ticker in the parquet_folder_list\n",
    "    ticker_parquet_folder = f\"{ticker}_1min_parquet\"\n",
    "    if ticker_parquet_folder in parquet_folder_list:\n",
    "        index = parquet_folder_list.index(ticker_parquet_folder)\n",
    "        print(f\"Index of {ticker_parquet_folder} in parquet_folder_list: {index}\")\n",
    "        folder_path_name = os.path.join(parquet_folder_path, parquet_folder_list[index])\n",
    "        # Copy the folder and its contents to the destination path\n",
    "        destination_path = os.path.join(destination_folder_path, ticker_parquet_folder)\n",
    "        if not os.path.exists(destination_path):\n",
    "            os.makedirs(destination_path)\n",
    "        else: # if the folder already exists, skip the copy\n",
    "            continue\n",
    "        \n",
    "        for file_name in os.listdir(folder_path_name):\n",
    "            full_file_name = os.path.join(folder_path_name, file_name)\n",
    "            if os.path.isfile(full_file_name):\n",
    "                shutil.copy(full_file_name, destination_path)\n",
    "        print(f\"foldername: {folder_path_name}\")\n",
    "    else:\n",
    "        print(f\"{ticker_parquet_folder} not found in parquet_folder_list\")\n"
   ]
  }
 ],
 "metadata": {
  "kernelspec": {
   "display_name": "Python 3 (ipykernel)",
   "language": "python",
   "name": "python3"
  },
  "language_info": {
   "codemirror_mode": {
    "name": "ipython",
    "version": 3
   },
   "file_extension": ".py",
   "mimetype": "text/x-python",
   "name": "python",
   "nbconvert_exporter": "python",
   "pygments_lexer": "ipython3",
   "version": "3.11.7"
  }
 },
 "nbformat": 4,
 "nbformat_minor": 4
}
